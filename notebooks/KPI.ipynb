{
 "cells": [
  {
   "cell_type": "code",
   "execution_count": 1,
   "metadata": {},
   "outputs": [],
   "source": [
    "import pandas as pd\n",
    "from azure.cognitiveservices.language.luis.runtime import LUISRuntimeClient\n",
    "from msrest.authentication import CognitiveServicesCredentials"
   ]
  },
  {
   "cell_type": "code",
   "execution_count": 2,
   "metadata": {},
   "outputs": [],
   "source": [
    "luisappid = os.environ['LUIS_APP_ID']\n",
    "luisapikey = os.environ['LUIS_API_KEY']\n",
    "luisapihostname = os.environ['LUIS_API_HOST_NAME']"
   ]
  },
  {
   "cell_type": "code",
   "execution_count": 2,
   "metadata": {},
   "outputs": [],
   "source": [
    "df_data = pd.read_json('../data/data_test.json', orient='records')"
   ]
  },
  {
   "cell_type": "code",
   "execution_count": 3,
   "metadata": {},
   "outputs": [
    {
     "data": {
      "text/html": [
       "<div>\n",
       "<style scoped>\n",
       "    .dataframe tbody tr th:only-of-type {\n",
       "        vertical-align: middle;\n",
       "    }\n",
       "\n",
       "    .dataframe tbody tr th {\n",
       "        vertical-align: top;\n",
       "    }\n",
       "\n",
       "    .dataframe thead th {\n",
       "        text-align: right;\n",
       "    }\n",
       "</style>\n",
       "<table border=\"1\" class=\"dataframe\">\n",
       "  <thead>\n",
       "    <tr style=\"text-align: right;\">\n",
       "      <th></th>\n",
       "      <th>text</th>\n",
       "      <th>entities</th>\n",
       "      <th>intent</th>\n",
       "    </tr>\n",
       "  </thead>\n",
       "  <tbody>\n",
       "    <tr>\n",
       "      <th>0</th>\n",
       "      <td>Can you also check check Athens for me?</td>\n",
       "      <td>[{'startPos': 25, 'endPos': 30, 'entity': 'dst...</td>\n",
       "      <td>book</td>\n",
       "    </tr>\n",
       "    <tr>\n",
       "      <th>1</th>\n",
       "      <td>2 adults and 6 kids</td>\n",
       "      <td>[{'startPos': 13, 'endPos': 13, 'entity': 'n_c...</td>\n",
       "      <td>book</td>\n",
       "    </tr>\n",
       "    <tr>\n",
       "      <th>2</th>\n",
       "      <td>would you have a longer package if we departed...</td>\n",
       "      <td>[{'startPos': 52, 'endPos': 57, 'entity': 'or_...</td>\n",
       "      <td>book</td>\n",
       "    </tr>\n",
       "    <tr>\n",
       "      <th>3</th>\n",
       "      <td>Please book that one!</td>\n",
       "      <td>[{'startPos': 7, 'endPos': 10, 'entity': 'inte...</td>\n",
       "      <td>book</td>\n",
       "    </tr>\n",
       "    <tr>\n",
       "      <th>4</th>\n",
       "      <td>I need to get to Beijing so I can get a pictur...</td>\n",
       "      <td>[{'startPos': 17, 'endPos': 23, 'entity': 'dst...</td>\n",
       "      <td>book</td>\n",
       "    </tr>\n",
       "  </tbody>\n",
       "</table>\n",
       "</div>"
      ],
      "text/plain": [
       "                                                text  \\\n",
       "0            Can you also check check Athens for me?   \n",
       "1                                2 adults and 6 kids   \n",
       "2  would you have a longer package if we departed...   \n",
       "3                              Please book that one!   \n",
       "4  I need to get to Beijing so I can get a pictur...   \n",
       "\n",
       "                                            entities intent  \n",
       "0  [{'startPos': 25, 'endPos': 30, 'entity': 'dst...   book  \n",
       "1  [{'startPos': 13, 'endPos': 13, 'entity': 'n_c...   book  \n",
       "2  [{'startPos': 52, 'endPos': 57, 'entity': 'or_...   book  \n",
       "3  [{'startPos': 7, 'endPos': 10, 'entity': 'inte...   book  \n",
       "4  [{'startPos': 17, 'endPos': 23, 'entity': 'dst...   book  "
      ]
     },
     "execution_count": 3,
     "metadata": {},
     "output_type": "execute_result"
    }
   ],
   "source": [
    "df_data.head()"
   ]
  },
  {
   "cell_type": "code",
   "execution_count": 4,
   "metadata": {},
   "outputs": [],
   "source": [
    "for it, sample in df_data.iterrows():\n",
    "    if it < 40:\n",
    "        #print(sample.to_dict())\n",
    "        entity = sample.to_dict()['entities']"
   ]
  },
  {
   "cell_type": "code",
   "execution_count": 5,
   "metadata": {},
   "outputs": [],
   "source": [
    "def extract_in_sentence(entityLabels, text):\n",
    "    dict_list = {}\n",
    "    for entity in entityLabels:\n",
    "        word, name = extract_entity(entity['startPos'], entity['endPos'], entity['entity'], text)\n",
    "        dict_list[word] = name\n",
    "    dict_list['text'] = text\n",
    "    return dict_list"
   ]
  },
  {
   "cell_type": "code",
   "execution_count": 6,
   "metadata": {},
   "outputs": [],
   "source": [
    "def extract_entity(start, end, name, text):\n",
    "    word = text[start:end+1]\n",
    "    return name, word"
   ]
  },
  {
   "cell_type": "code",
   "execution_count": 7,
   "metadata": {},
   "outputs": [],
   "source": [
    "df_list = []\n",
    "for it, sample in df_data.iterrows():\n",
    "    if it < 40:\n",
    "        df_list.append({})\n",
    "        df_list[it].update(extract_in_sentence(sample.to_dict()['entities'], sample.to_dict()['text']))"
   ]
  },
  {
   "cell_type": "code",
   "execution_count": 8,
   "metadata": {},
   "outputs": [
    {
     "data": {
      "text/plain": [
       "[{'dst_city': 'Athens', 'text': 'Can you also check check Athens for me?'},\n",
       " {'n_children': '6', 'text': '2 adults and 6 kids'},\n",
       " {'or_city': 'puebla',\n",
       "  'min_duration': 'longer',\n",
       "  'text': 'would you have a longer package if we departed from puebla instead?'},\n",
       " {'intent': 'book', 'text': 'Please book that one!'},\n",
       " {'dst_city': 'Beijing',\n",
       "  'text': 'I need to get to Beijing so I can get a picture of Madonna and her huge popstar friend, Greg.'},\n",
       " {'intent': 'book', 'text': \"Great! Let's book it!\"},\n",
       " {'max_duration': '3',\n",
       "  'or_city': 'San Antonio.',\n",
       "  'budget': '400',\n",
       "  'text': \"good i have 3 days off and wanna leave San Antonio. i only have 400 bucks so ill prob have to take a bus but if u can find me a flight that'd be sweet as hell. i'll go wherever, whenever\"},\n",
       " {'or_city': 'berlin',\n",
       "  'dst_city': 'milan.',\n",
       "  'text': 'from berlin to milan. what is available'},\n",
       " {'category': '5', 'text': 'I will only look at 5 star hotels.'},\n",
       " {'n_adults': 'me and 7 friends',\n",
       "  'or_city': 'Sydney',\n",
       "  'dst_city': 'Miami',\n",
       "  'seat': 'business',\n",
       "  'category': 'best',\n",
       "  'text': \"Ok I'm turning 20 soon Daddy promised that I would get to take me and 7 friends wherever I wanted. Get me from Sydney to Miami\\nMind you we only fly business class\\nAnd stay at the best hotels\"},\n",
       " {'or_city': 'Tofino',\n",
       "  'str_date': 'August 29.',\n",
       "  'dst_city': 'Calgary',\n",
       "  'n_adults': 'fourteen',\n",
       "  'text': 'Hello there I am looking for a travel package departing from Tofino on or after August 29. I would like to go to Calgary with a party of fourteen adults.'},\n",
       " {'max_duration': 'week-long',\n",
       "  'text': 'Ok, what other options do you have? Do you have anything for about a week-long trip?'},\n",
       " {'intent': 'booking',\n",
       "  'dst_city': 'Berlin.',\n",
       "  'or_city': 'Sao Paulo.',\n",
       "  'n_adults': '3',\n",
       "  'n_children': '1',\n",
       "  'budget': '$14900',\n",
       "  'text': 'This is my first time booking a trip with a machine....hope this works....so I will be very specific. I need to go to Berlin. From Sao Paulo. We are 3 adults and 1 child. We have $14900 at most to spend on this trip. Can you figure this out? Cause if not I will call a travel agent. Please confirm that you comprehend.  Over and out.'},\n",
       " {'or_city': 'SL',\n",
       "  'text': 'what if I leave from SL instead, anything better?'},\n",
       " {'or_city': 'Phoenix,',\n",
       "  'budget': 'cheap',\n",
       "  'text': \"We are getting married in Phoenix, having a good old southern wedding. It's costing my parents a fortune. Make sure the honeymoon is cheap please cause my husband has no money either.\"},\n",
       " {'category': 'better', 'text': 'Have you got anything better in Tampa?'},\n",
       " {'dst_city': 'Hiroshima', 'text': \"Let's look at Hiroshima first\"},\n",
       " {'budget': '15600',\n",
       "  'text': \"We're finally going on vacation isn't that amazing? We have lots of money- 15600 even!\"},\n",
       " {'max_duration': '7 days', 'text': 'I have 7 days vacation'},\n",
       " {'dst_city': 'Curitiba?',\n",
       "  'or_city': 'Tofino',\n",
       "  'n_adults': '11',\n",
       "  'text': 'How about Tofino to Curitiba? This time for 11 adults'},\n",
       " {'dst_city': 'St. Louis.',\n",
       "  'text': \"Mah closest friend, Madonna and I want to go to St. Louis. What can you offer. I only want the best, if not I'm going elsewhere.\"},\n",
       " {'intent': 'book', 'text': 'Ok just book it for me then.'},\n",
       " {'dst_city': 'Queenstown',\n",
       "  'n_adults': '7',\n",
       "  'n_children': 'two',\n",
       "  'str_date': 'earliest',\n",
       "  'text': 'Santiago to Queenstown  7 adults two children\\nwhats the earliest flight you can put me on'},\n",
       " {'dst_city': 'SL?',\n",
       "  'text': 'what do you have in SL? there must be something in SL!'},\n",
       " {'end_date': 'before September 11',\n",
       "  'text': 'Just get me back before September 11 is all I ask'},\n",
       " {'or_city': 'Kabul',\n",
       "  'dst_city': 'denver.',\n",
       "  'n_adults': '10',\n",
       "  'text': 'I want to fly from Kabul to denver. 10 adults'},\n",
       " {'or_city': 'Tel Aviv',\n",
       "  'dst_city': 'Fortaleza',\n",
       "  'budget': '2300',\n",
       "  'n_adults': '7',\n",
       "  'text': 'I want to leave from Tel Aviv and go to Fortaleza for 2300 with 7 adults'},\n",
       " {'seat': 'economy',\n",
       "  'text': 'Are there any possible flights with economy class?'},\n",
       " {'dst_city': 'Vancouver',\n",
       "  'text': \"If only I could get the vacation days off.. I could be there today :sleepy: I have one other place that tops my bucket list\\nVancouver\\nWhat've you got there?\"},\n",
       " {'or_city': 'Boston, Massachusetts.',\n",
       "  'text': \"We live in Boston, Massachusetts. It's just awful here, you know\"},\n",
       " {'n_adults': 'two', 'text': 'ok. for two adults'},\n",
       " {'n_adults': '4',\n",
       "  'dst_city': 'Minneapolis',\n",
       "  'text': \"We are 4 people in total. Car aficionados. There's a rally in Minneapolis too if you have anything there that is better.\"},\n",
       " {'n_adults': '1',\n",
       "  'n_children': 'four',\n",
       "  'text': 'there will be myself, 1 adult, and my four kids'},\n",
       " {'or_city': 'Washington',\n",
       "  'dst_city': 'san juan',\n",
       "  'text': 'ok. and what if i went to san juan but i left from Washington\\nwhats available then'},\n",
       " {'n_children': '5', 'text': '3 adults and 5 children.'},\n",
       " {'budget': '3200', 'text': 'Let me know if 3200 will be enough'},\n",
       " {'intent': 'book', 'text': \"Great! I'll book this one. Thank you\"},\n",
       " {'budget': '$4000', 'text': 'We have $4000 to spend.'},\n",
       " {'or_city': 'Alexandria',\n",
       "  'text': 'Do you have any flights from Alexandria to Berlin??'},\n",
       " {'end_date': 'Twenty Fourth Day Of September',\n",
       "  'n_children': 'Two',\n",
       "  'text': 'I Would Be Returning On The Twenty Fourth Day Of September With My Two Grandchildren'}]"
      ]
     },
     "execution_count": 8,
     "metadata": {},
     "output_type": "execute_result"
    }
   ],
   "source": [
    "df_list"
   ]
  },
  {
   "cell_type": "code",
   "execution_count": 10,
   "metadata": {},
   "outputs": [],
   "source": [
    "app_id = luisappid\n",
    "predictionKey = luisapikey\n",
    "predictionEndpoint = \"https://\" + luisapihostname\n"
   ]
  },
  {
   "cell_type": "code",
   "execution_count": 11,
   "metadata": {},
   "outputs": [],
   "source": [
    "#predictionRequest = {\n",
    "#    \"query\": df_list[39]['text']}\n",
    "runtimeCredentials = CognitiveServicesCredentials(predictionKey)\n",
    "clientRuntime = LUISRuntimeClient(endpoint=predictionEndpoint, credentials=runtimeCredentials)\n",
    "#predictionResponse = clientRuntime.prediction.resolve(app_id, query=predictionRequest)"
   ]
  },
  {
   "cell_type": "code",
   "execution_count": 12,
   "metadata": {},
   "outputs": [],
   "source": [
    "#df_list[39]['text']"
   ]
  },
  {
   "cell_type": "code",
   "execution_count": 13,
   "metadata": {},
   "outputs": [],
   "source": [
    "    #runtimeCredentials = CognitiveServicesCredentials(predictionKey)\n",
    "    #clientRuntime = LUISRuntimeClient(endpoint=predictionEndpoint, credentials=runtimeCredentials)"
   ]
  },
  {
   "cell_type": "code",
   "execution_count": 14,
   "metadata": {},
   "outputs": [],
   "source": [
    "list_response = []"
   ]
  },
  {
   "cell_type": "code",
   "execution_count": 15,
   "metadata": {},
   "outputs": [],
   "source": [
    "for it in range(8):\n",
    "    list_response.append({})\n",
    "    predictionRequest = {\n",
    "    \"query\": df_list[it+30]['text']}\n",
    "    predictionResponse = clientRuntime.prediction.resolve(app_id, query=predictionRequest)\n",
    "    for x in range(len(predictionResponse.entities)):\n",
    "        list_response[it][predictionResponse.entities[x].type] = \\\n",
    "        predictionResponse.entities[x].entity"
   ]
  },
  {
   "cell_type": "code",
   "execution_count": 16,
   "metadata": {},
   "outputs": [
    {
     "data": {
      "text/plain": [
       "[{'intent': 'book'},\n",
       " {'max_duration': '4 day',\n",
       "  'builtin.datetimeV2.duration': '4 day',\n",
       "  'builtin.number': '4'},\n",
       " {'or_city': 'tijuana ,', 'builtin.geographyV2.city': 'tijuana'},\n",
       " {'n_adults': 'one', 'builtin.number': 'one'},\n",
       " {'dst_city': 'santos',\n",
       "  'n_adults': 'with a friend .',\n",
       "  'builtin.geographyV2.city': 'santos'},\n",
       " {'dst_city': 'queenstown',\n",
       "  'or_city': 'fort lauderdale',\n",
       "  'builtin.geographyV2.city': 'queenstown'},\n",
       " {'max_duration': '8 days',\n",
       "  'or_city': 'dallas .',\n",
       "  'str_date': 'september 6',\n",
       "  'builtin.datetimeV2.duration': '8 days',\n",
       "  'builtin.datetimeV2.daterange': 'starting on september 6',\n",
       "  'builtin.number': '6'},\n",
       " {'budget': '2800',\n",
       "  'n_adults': 'just me .',\n",
       "  'builtin.geographyV2.continent': 'south america',\n",
       "  'builtin.number': '2800'}]"
      ]
     },
     "execution_count": 16,
     "metadata": {},
     "output_type": "execute_result"
    }
   ],
   "source": [
    "list_response"
   ]
  },
  {
   "cell_type": "code",
   "execution_count": 17,
   "metadata": {},
   "outputs": [
    {
     "data": {
      "text/plain": [
       "[{'intent': 'book', 'text': 'Would I still be able to book that package?'},\n",
       " {'max_duration': '4 day', 'text': 'I want to go on a 4 day trip'},\n",
       " {'or_city': 'Tijuana,', 'text': 'I am in Tijuana, send me anywhere nice!'},\n",
       " {'n_adults': 'one', 'text': 'Great. Book for one adult.'},\n",
       " {'n_adults': 'with a friend.',\n",
       "  'dst_city': 'Santos',\n",
       "  'text': 'I’m traveling with a friend. Santos then'},\n",
       " {'or_city': 'Fort Lauderdale',\n",
       "  'text': 'She lives in Fort Lauderdale and needs to go to Queenstown'},\n",
       " {'max_duration': '8 days',\n",
       "  'str_date': 'september 6',\n",
       "  'or_city': 'dallas.',\n",
       "  'text': 'I have 8 days for vacation starting on september 6 from dallas. What can you offer me?'},\n",
       " {'n_adults': 'just me.',\n",
       "  'budget': '2800',\n",
       "  'text': \"Yeah just me. I've just spent all this money backpacking around South America, so I've only got 2800 left. Can you find something with that?\"}]"
      ]
     },
     "execution_count": 17,
     "metadata": {},
     "output_type": "execute_result"
    }
   ],
   "source": [
    "df_list[30:38]"
   ]
  },
  {
   "cell_type": "code",
   "execution_count": 18,
   "metadata": {},
   "outputs": [],
   "source": [
    "import re"
   ]
  },
  {
   "cell_type": "code",
   "execution_count": 57,
   "metadata": {},
   "outputs": [],
   "source": [
    "table = {}\n",
    "#table['tests'] = 0\n",
    "for it in range(8):\n",
    "    for key in df_list[30 + it].keys():\n",
    "        real = ''\n",
    "        predict = ''\n",
    "        if not key == 'text':\n",
    "            if not key in table.keys():\n",
    "                table[key] = [0, 0, 0, 0, 0]  # TP FP TN FN SUM\n",
    "            if key in list_response[it].keys():\n",
    "                #table['tests'] += 1\n",
    "                table[key][4] += 1  # Compte le nombre total d’apparition\n",
    "                #print(key, ''.join(re.findall('\\w*', df_list[it + 30][key])).lower())\n",
    "                #print(key, ''.join(re.findall('\\w*', list_response[it][key])).lower())\n",
    "                real = ''.join(re.findall('\\w*', df_list[it + 30][key])).lower()\n",
    "                predict = ''.join(re.findall('\\w*', list_response[it][key])).lower()\n",
    "                if real == predict:\n",
    "                    table[key][0] += 1  # Compte le nombre de bonne prédiction\n",
    "                else:\n",
    "                    table[key][1] += 1\n",
    "            else:\n",
    "                table[key][1] += 1\n",
    "                table[key][4] += 1\n",
    "    for key in list_response[it].keys():\n",
    "        real = ''\n",
    "        predict = ''\n",
    "        if (not key == 'text') & (not 'builtin' in key):\n",
    "            if not key in table.keys():\n",
    "                table[key] = [0, 0, 0, 0, 0]  # TP FP TN FN SUM \n",
    "            if key in df_list[30 + it].keys():\n",
    "                #table['tests'] += 1\n",
    "                table[key][4] += 1  # Compte le nombre total d’apparition\n",
    "                #print(key, ''.join(re.findall('\\w*', df_list[it + 30][key])).lower())\n",
    "                #print(key, ''.join(re.findall('\\w*', list_response[it][key])).lower())\n",
    "                real = ''.join(re.findall('\\w*', df_list[it + 30][key])).lower()\n",
    "                predict = ''.join(re.findall('\\w*', list_response[it][key])).lower()\n",
    "                if real == predict:\n",
    "                    table[key][2] += 1  # Compte le nombre de bonne prédiction\n",
    "                else:\n",
    "                    table[key][3] += 1\n",
    "            else:\n",
    "                table[key][3] += 1\n",
    "                table[key][4] += 1\n"
   ]
  },
  {
   "cell_type": "code",
   "execution_count": 58,
   "metadata": {},
   "outputs": [],
   "source": [
    "import matplotlib.pyplot as plt"
   ]
  },
  {
   "cell_type": "code",
   "execution_count": 59,
   "metadata": {},
   "outputs": [
    {
     "data": {
      "text/plain": [
       "{'intent': [1, 0, 1, 0, 2],\n",
       " 'max_duration': [2, 0, 2, 0, 4],\n",
       " 'or_city': [3, 0, 3, 0, 6],\n",
       " 'n_adults': [3, 0, 3, 0, 6],\n",
       " 'dst_city': [1, 0, 1, 1, 3],\n",
       " 'str_date': [1, 0, 1, 0, 2],\n",
       " 'budget': [1, 0, 1, 0, 2]}"
      ]
     },
     "execution_count": 59,
     "metadata": {},
     "output_type": "execute_result"
    }
   ],
   "source": [
    "table"
   ]
  },
  {
   "cell_type": "code",
   "execution_count": 60,
   "metadata": {},
   "outputs": [],
   "source": [
    "df = pd.DataFrame.from_dict(table, orient='index', columns=['TP', 'FP', 'TN', 'FN', 'Total'])"
   ]
  },
  {
   "cell_type": "code",
   "execution_count": 61,
   "metadata": {},
   "outputs": [
    {
     "data": {
      "text/html": [
       "<div>\n",
       "<style scoped>\n",
       "    .dataframe tbody tr th:only-of-type {\n",
       "        vertical-align: middle;\n",
       "    }\n",
       "\n",
       "    .dataframe tbody tr th {\n",
       "        vertical-align: top;\n",
       "    }\n",
       "\n",
       "    .dataframe thead th {\n",
       "        text-align: right;\n",
       "    }\n",
       "</style>\n",
       "<table border=\"1\" class=\"dataframe\">\n",
       "  <thead>\n",
       "    <tr style=\"text-align: right;\">\n",
       "      <th></th>\n",
       "      <th>TP</th>\n",
       "      <th>FP</th>\n",
       "      <th>TN</th>\n",
       "      <th>FN</th>\n",
       "      <th>Total</th>\n",
       "    </tr>\n",
       "  </thead>\n",
       "  <tbody>\n",
       "    <tr>\n",
       "      <th>intent</th>\n",
       "      <td>1</td>\n",
       "      <td>0</td>\n",
       "      <td>1</td>\n",
       "      <td>0</td>\n",
       "      <td>2</td>\n",
       "    </tr>\n",
       "    <tr>\n",
       "      <th>max_duration</th>\n",
       "      <td>2</td>\n",
       "      <td>0</td>\n",
       "      <td>2</td>\n",
       "      <td>0</td>\n",
       "      <td>4</td>\n",
       "    </tr>\n",
       "    <tr>\n",
       "      <th>or_city</th>\n",
       "      <td>3</td>\n",
       "      <td>0</td>\n",
       "      <td>3</td>\n",
       "      <td>0</td>\n",
       "      <td>6</td>\n",
       "    </tr>\n",
       "    <tr>\n",
       "      <th>n_adults</th>\n",
       "      <td>3</td>\n",
       "      <td>0</td>\n",
       "      <td>3</td>\n",
       "      <td>0</td>\n",
       "      <td>6</td>\n",
       "    </tr>\n",
       "    <tr>\n",
       "      <th>dst_city</th>\n",
       "      <td>1</td>\n",
       "      <td>0</td>\n",
       "      <td>1</td>\n",
       "      <td>1</td>\n",
       "      <td>3</td>\n",
       "    </tr>\n",
       "    <tr>\n",
       "      <th>str_date</th>\n",
       "      <td>1</td>\n",
       "      <td>0</td>\n",
       "      <td>1</td>\n",
       "      <td>0</td>\n",
       "      <td>2</td>\n",
       "    </tr>\n",
       "    <tr>\n",
       "      <th>budget</th>\n",
       "      <td>1</td>\n",
       "      <td>0</td>\n",
       "      <td>1</td>\n",
       "      <td>0</td>\n",
       "      <td>2</td>\n",
       "    </tr>\n",
       "  </tbody>\n",
       "</table>\n",
       "</div>"
      ],
      "text/plain": [
       "              TP  FP  TN  FN  Total\n",
       "intent         1   0   1   0      2\n",
       "max_duration   2   0   2   0      4\n",
       "or_city        3   0   3   0      6\n",
       "n_adults       3   0   3   0      6\n",
       "dst_city       1   0   1   1      3\n",
       "str_date       1   0   1   0      2\n",
       "budget         1   0   1   0      2"
      ]
     },
     "execution_count": 61,
     "metadata": {},
     "output_type": "execute_result"
    }
   ],
   "source": [
    "df"
   ]
  },
  {
   "cell_type": "code",
   "execution_count": 68,
   "metadata": {},
   "outputs": [],
   "source": [
    "import seaborn as sns\n",
    "import numpy as np"
   ]
  },
  {
   "cell_type": "code",
   "execution_count": 79,
   "metadata": {},
   "outputs": [
    {
     "data": {
      "text/plain": [
       "<AxesSubplot:>"
      ]
     },
     "execution_count": 79,
     "metadata": {},
     "output_type": "execute_result"
    },
    {
     "data": {
      "image/png": "[encoded data removed]",
      "text/plain": [
       "<Figure size 432x288 with 2 Axes>"
      ]
     },
     "metadata": {
      "needs_background": "light"
     },
     "output_type": "display_data"
    }
   ],
   "source": [
    "sns.heatmap(np.array(df[['TP','FP','FN','TN']].sum()).reshape(2,2), annot=True)"
   ]
  },
  {
   "cell_type": "markdown",
   "metadata": {},
   "source": [
    "Sur un petit échantillon les résultats sont bons. Pour faire un test sur plus de prédiction, nous devons utiliser l’interface LUIS dans le portail Azure."
   ]
  },
  {
   "cell_type": "code",
   "execution_count": 85,
   "metadata": {},
   "outputs": [
    {
     "data": {
      "text/plain": [
       "12"
      ]
     },
     "execution_count": 85,
     "metadata": {},
     "output_type": "execute_result"
    }
   ],
   "source": [
    "df[['TP']].sum()[0]"
   ]
  },
  {
   "cell_type": "code",
   "execution_count": 86,
   "metadata": {},
   "outputs": [],
   "source": [
    "TP = df[['TP']].sum()[0]\n",
    "FP = df[['FP']].sum()[0]\n",
    "FN = df[['FN']].sum()[0]\n",
    "TN = df[['TN']].sum()[0]"
   ]
  },
  {
   "cell_type": "code",
   "execution_count": 89,
   "metadata": {},
   "outputs": [],
   "source": [
    "precision = (TP / (FP+TP))\n",
    "recall = (TP / (FN+TP))\n",
    "f1_score = 2 * (precision * recall) / (precision + recall)"
   ]
  },
  {
   "cell_type": "code",
   "execution_count": 90,
   "metadata": {},
   "outputs": [
    {
     "data": {
      "text/plain": [
       "(1.0, 0.9230769230769231, 0.9600000000000001)"
      ]
     },
     "execution_count": 90,
     "metadata": {},
     "output_type": "execute_result"
    }
   ],
   "source": [
    "precision, recall, f1_score"
   ]
  },
  {
   "cell_type": "code",
   "execution_count": null,
   "metadata": {},
   "outputs": [],
   "source": []
  },
  {
   "cell_type": "code",
   "execution_count": null,
   "metadata": {},
   "outputs": [],
   "source": []
  },
  {
   "cell_type": "code",
   "execution_count": null,
   "metadata": {},
   "outputs": [],
   "source": []
  },
  {
   "cell_type": "code",
   "execution_count": null,
   "metadata": {},
   "outputs": [],
   "source": []
  },
  {
   "cell_type": "code",
   "execution_count": null,
   "metadata": {},
   "outputs": [],
   "source": []
  },
  {
   "cell_type": "code",
   "execution_count": null,
   "metadata": {},
   "outputs": [],
   "source": []
  },
  {
   "cell_type": "code",
   "execution_count": null,
   "metadata": {},
   "outputs": [],
   "source": []
  },
  {
   "cell_type": "code",
   "execution_count": null,
   "metadata": {},
   "outputs": [],
   "source": []
  }
 ],
 "metadata": {
  "kernelspec": {
   "display_name": "ProjetBot",
   "language": "python",
   "name": ".venv"
  },
  "language_info": {
   "codemirror_mode": {
    "name": "ipython",
    "version": 3
   },
   "file_extension": ".py",
   "mimetype": "text/x-python",
   "name": "python",
   "nbconvert_exporter": "python",
   "pygments_lexer": "ipython3",
   "version": "3.8.10"
  }
 },
 "nbformat": 4,
 "nbformat_minor": 4
}
