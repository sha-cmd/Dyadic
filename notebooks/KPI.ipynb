{
 "cells": [
  {
   "cell_type": "code",
   "execution_count": 1,
   "metadata": {},
   "outputs": [],
   "source": [
    "import pandas as pd\n",
    "from azure.cognitiveservices.language.luis.runtime import LUISRuntimeClient\n",
    "from msrest.authentication import CognitiveServicesCredentials"
   ]
  },
  {
   "cell_type": "code",
   "execution_count": 2,
   "metadata": {},
   "outputs": [],
   "source": [
    "luisappid = os.environ['LUIS_APP_ID']\n",
    "luisapikey = os.environ['LUIS_API_KEY']\n",
    "luisapihostname = os.environ['LUIS_API_HOST_NAME']"
   ]
  },
  {
   "cell_type": "code",
   "execution_count": 3,
   "metadata": {},
   "outputs": [],
   "source": [
    "df_data = pd.read_json('../data/data_train.json', orient='records')"
   ]
  },
  {
   "cell_type": "code",
   "execution_count": 4,
   "metadata": {},
   "outputs": [
    {
     "data": {
      "text/html": [
       "<div>\n",
       "<style scoped>\n",
       "    .dataframe tbody tr th:only-of-type {\n",
       "        vertical-align: middle;\n",
       "    }\n",
       "\n",
       "    .dataframe tbody tr th {\n",
       "        vertical-align: top;\n",
       "    }\n",
       "\n",
       "    .dataframe thead th {\n",
       "        text-align: right;\n",
       "    }\n",
       "</style>\n",
       "<table border=\"1\" class=\"dataframe\">\n",
       "  <thead>\n",
       "    <tr style=\"text-align: right;\">\n",
       "      <th></th>\n",
       "      <th>text</th>\n",
       "      <th>entityLabels</th>\n",
       "      <th>intentName</th>\n",
       "    </tr>\n",
       "  </thead>\n",
       "  <tbody>\n",
       "    <tr>\n",
       "      <th>0</th>\n",
       "      <td>Please, please book this terrific trip</td>\n",
       "      <td>[{'startCharIndex': 15, 'endCharIndex': 18, 'e...</td>\n",
       "      <td>book</td>\n",
       "    </tr>\n",
       "    <tr>\n",
       "      <th>1</th>\n",
       "      <td>That sounds great! I'll book it!</td>\n",
       "      <td>[{'startCharIndex': 24, 'endCharIndex': 27, 'e...</td>\n",
       "      <td>book</td>\n",
       "    </tr>\n",
       "    <tr>\n",
       "      <th>2</th>\n",
       "      <td>Fine. What about...if I went to Milan instead</td>\n",
       "      <td>[{'startCharIndex': 32, 'endCharIndex': 36, 'e...</td>\n",
       "      <td>book</td>\n",
       "    </tr>\n",
       "    <tr>\n",
       "      <th>3</th>\n",
       "      <td>Is there anything sooner for flights to Lima?</td>\n",
       "      <td>[{'startCharIndex': 18, 'endCharIndex': 23, 'e...</td>\n",
       "      <td>book</td>\n",
       "    </tr>\n",
       "    <tr>\n",
       "      <th>4</th>\n",
       "      <td>Just one - just me</td>\n",
       "      <td>[{'startCharIndex': 5, 'endCharIndex': 7, 'ent...</td>\n",
       "      <td>book</td>\n",
       "    </tr>\n",
       "  </tbody>\n",
       "</table>\n",
       "</div>"
      ],
      "text/plain": [
       "                                            text  \\\n",
       "0         Please, please book this terrific trip   \n",
       "1               That sounds great! I'll book it!   \n",
       "2  Fine. What about...if I went to Milan instead   \n",
       "3  Is there anything sooner for flights to Lima?   \n",
       "4                             Just one - just me   \n",
       "\n",
       "                                        entityLabels intentName  \n",
       "0  [{'startCharIndex': 15, 'endCharIndex': 18, 'e...       book  \n",
       "1  [{'startCharIndex': 24, 'endCharIndex': 27, 'e...       book  \n",
       "2  [{'startCharIndex': 32, 'endCharIndex': 36, 'e...       book  \n",
       "3  [{'startCharIndex': 18, 'endCharIndex': 23, 'e...       book  \n",
       "4  [{'startCharIndex': 5, 'endCharIndex': 7, 'ent...       book  "
      ]
     },
     "execution_count": 4,
     "metadata": {},
     "output_type": "execute_result"
    }
   ],
   "source": [
    "df_data.head()"
   ]
  },
  {
   "cell_type": "code",
   "execution_count": 5,
   "metadata": {},
   "outputs": [],
   "source": [
    "for it, sample in df_data.iterrows():\n",
    "    if it < 40:\n",
    "        #print(sample.to_dict())\n",
    "        entity = sample.to_dict()['entityLabels']"
   ]
  },
  {
   "cell_type": "code",
   "execution_count": 6,
   "metadata": {},
   "outputs": [],
   "source": [
    "def extract_in_sentence(entityLabels, text):\n",
    "    dict_list = {}\n",
    "    for entity in entityLabels:\n",
    "        word, name = extract_entity(entity['startCharIndex'], entity['endCharIndex'], entity['entityName'], text)\n",
    "        dict_list[word] = name\n",
    "    dict_list['text'] = text\n",
    "    return dict_list"
   ]
  },
  {
   "cell_type": "code",
   "execution_count": 7,
   "metadata": {},
   "outputs": [],
   "source": [
    "def extract_entity(start, end, name, text):\n",
    "    word = text[start:end+1]\n",
    "    return name, word"
   ]
  },
  {
   "cell_type": "code",
   "execution_count": 8,
   "metadata": {},
   "outputs": [],
   "source": [
    "df_list = []\n",
    "for it, sample in df_data.iterrows():\n",
    "    if it < 40:\n",
    "        df_list.append({})\n",
    "        df_list[it].update(extract_in_sentence(sample.to_dict()['entityLabels'], sample.to_dict()['text']))"
   ]
  },
  {
   "cell_type": "code",
   "execution_count": 9,
   "metadata": {},
   "outputs": [
    {
     "data": {
      "text/plain": [
       "[{'intent': 'book', 'text': 'Please, please book this terrific trip'},\n",
       " {'intent': 'book', 'text': \"That sounds great! I'll book it!\"},\n",
       " {'dst_city': 'Milan',\n",
       "  'text': 'Fine. What about...if I went to Milan instead'},\n",
       " {'str_date': 'sooner',\n",
       "  'text': 'Is there anything sooner for flights to Lima?'},\n",
       " {'n_adults': 'one', 'text': 'Just one - just me'},\n",
       " {'dst_city': 'Dublin', 'text': 'to Dublin .'},\n",
       " {'or_city': 'Gotham City,',\n",
       "  'dst_city': 'Hogsmead',\n",
       "  'n_children': '3',\n",
       "  'n_adults': '9',\n",
       "  'text': \"Hi I need a break from Gotham City, the crime rate is just too high. I'd like to go to Hogsmead with 3 kids and 9 adults.\"},\n",
       " {'budget': '6000',\n",
       "  'category': '5',\n",
       "  'text': 'I’m willing to spend up to 6000 if it means I get a 5 star'},\n",
       " {'intent': 'book',\n",
       "  'max_duration': '5 day',\n",
       "  'or_city': 'Santa Cruz',\n",
       "  'str_date': 'September 2nd.',\n",
       "  'text': \"Hi! I want to book a 5 day trip leaving from Santa Cruz on September 2nd. I don't have a destination in mind yet, what would you recommend?\"},\n",
       " {'intent': 'book',\n",
       "  'text': 'not too shabby. I like this one and so does the wife, so we will go ahead and book this one please'},\n",
       " {'or_city': 'Long Beach', 'text': 'In Long Beach right now'},\n",
       " {'budget': '1100',\n",
       "  'text': 'We are on a tight budget. The wedding was costly..\\nWe have 1100 dollars left over'},\n",
       " {'max_duration': '9 days', 'text': 'i have 9 days of vacation'},\n",
       " {'intent': 'book', 'text': 'ok lets book it!!'},\n",
       " {'dst_city': 'Dublin...',\n",
       "  'text': \"Actually we were also think of Dublin... wondering if there's anything better available there?\"},\n",
       " {'n_adults': 'two',\n",
       "  'text': \"no im bringing my boo, so there'll be two of us\"},\n",
       " {'dst_city': 'Long Beach',\n",
       "  'text': 'Would like to inquire about trips to Long Beach also'},\n",
       " {'str_date': 'Sept 11',\n",
       "  'end_date': 'Sept 25th.',\n",
       "  'text': 'We can only leave after Sept 11 and we need to be back before the start of school on Sept 25th. Do both these packages suit the dates?'},\n",
       " {'category': '5', 'text': 'mmm are there any 5 star hotels?'},\n",
       " {'intent': 'book', 'text': 'k book it dawg'},\n",
       " {'dst_city': 'Santos',\n",
       "  'budget': 'lower',\n",
       "  'text': 'okay. Do you have anything to Santos near a park but with a lower price than the Busan package?'},\n",
       " {'dst_city': 'Kochi',\n",
       "  'text': 'I had Kochi in mind, but I’m not sure if there are actually flights there?'},\n",
       " {'or_city': 'Curitiba', 'text': 'Can I leave from Curitiba instead'},\n",
       " {'category': 'four',\n",
       "  'text': 'unlimited budget, but hoping for something in the four star range'},\n",
       " {'dst_city': 'BALTIMORE',\n",
       "  'text': 'GREAT PERKS LONG TRIP GOOD PRICE WONDERFUL BUT WHAT ABOUT BALTIMORE HUH'},\n",
       " {'dst_city': 'vitoria,',\n",
       "  'n_adults': '1',\n",
       "  'seat': 'business',\n",
       "  'text': 'ulsan to vitoria, 1 business class ticket'},\n",
       " {'min_duration': 'longer',\n",
       "  'text': 'I guess the longer packages would be great, thanks.'},\n",
       " {'intent': 'book', 'text': 'DOPE. book it'},\n",
       " {'dst_city': 'Fortaleza',\n",
       "  'text': \"Okay that's fair. Lastly, can you check Fortaleza for me?\"},\n",
       " {'n_adults': '3',\n",
       "  'n_children': '3',\n",
       "  'text': \"We would be 3 adults and 3 children. We aren't picky about dates but we would like to review our hotel options\"},\n",
       " {'intent': 'book', 'text': 'Would I still be able to book that package?'},\n",
       " {'max_duration': '4 day', 'text': 'I want to go on a 4 day trip'},\n",
       " {'or_city': 'Tijuana,', 'text': 'I am in Tijuana, send me anywhere nice!'},\n",
       " {'n_adults': 'one', 'text': 'Great. Book for one adult.'},\n",
       " {'n_adults': 'with a friend.',\n",
       "  'dst_city': 'Santos',\n",
       "  'text': 'I’m traveling with a friend. Santos then'},\n",
       " {'or_city': 'Fort Lauderdale',\n",
       "  'text': 'She lives in Fort Lauderdale and needs to go to Queenstown'},\n",
       " {'max_duration': '8 days',\n",
       "  'str_date': 'september 6',\n",
       "  'or_city': 'dallas.',\n",
       "  'text': 'I have 8 days for vacation starting on september 6 from dallas. What can you offer me?'},\n",
       " {'n_adults': 'just me.',\n",
       "  'budget': '2800',\n",
       "  'text': \"Yeah just me. I've just spent all this money backpacking around South America, so I've only got 2800 left. Can you find something with that?\"},\n",
       " {'str_date': '2nd',\n",
       "  'max_duration': '15 day',\n",
       "  'text': 'We get married on September 1st, so we would like to leave on the 2nd :european_castle: A 15 day package would be ideal!'},\n",
       " {'or_city': 'monterrey',\n",
       "  'dst_city': 'curitiba,',\n",
       "  'budget': '2800',\n",
       "  'text': 'They say that I’m a dreamer, but i’m not the only one. and today i am dreaming of a trip out of monterrey\\ncan you tell me if i can get to curitiba, if i had 2800 to my name?'}]"
      ]
     },
     "execution_count": 9,
     "metadata": {},
     "output_type": "execute_result"
    }
   ],
   "source": [
    "df_list"
   ]
  },
  {
   "cell_type": "code",
   "execution_count": 10,
   "metadata": {},
   "outputs": [],
   "source": [
    "app_id = luisappid\n",
    "predictionKey = luisapikey\n",
    "predictionEndpoint = \"https://\" + luisapihostname\n"
   ]
  },
  {
   "cell_type": "code",
   "execution_count": 11,
   "metadata": {},
   "outputs": [],
   "source": [
    "#predictionRequest = {\n",
    "#    \"query\": df_list[39]['text']}\n",
    "runtimeCredentials = CognitiveServicesCredentials(predictionKey)\n",
    "clientRuntime = LUISRuntimeClient(endpoint=predictionEndpoint, credentials=runtimeCredentials)\n",
    "#predictionResponse = clientRuntime.prediction.resolve(app_id, query=predictionRequest)"
   ]
  },
  {
   "cell_type": "code",
   "execution_count": 12,
   "metadata": {},
   "outputs": [],
   "source": [
    "#df_list[39]['text']"
   ]
  },
  {
   "cell_type": "code",
   "execution_count": 13,
   "metadata": {},
   "outputs": [],
   "source": [
    "    #runtimeCredentials = CognitiveServicesCredentials(predictionKey)\n",
    "    #clientRuntime = LUISRuntimeClient(endpoint=predictionEndpoint, credentials=runtimeCredentials)"
   ]
  },
  {
   "cell_type": "code",
   "execution_count": 14,
   "metadata": {},
   "outputs": [],
   "source": [
    "list_response = []"
   ]
  },
  {
   "cell_type": "code",
   "execution_count": 15,
   "metadata": {},
   "outputs": [],
   "source": [
    "for it in range(8):\n",
    "    list_response.append({})\n",
    "    predictionRequest = {\n",
    "    \"query\": df_list[it+30]['text']}\n",
    "    predictionResponse = clientRuntime.prediction.resolve(app_id, query=predictionRequest)\n",
    "    for x in range(len(predictionResponse.entities)):\n",
    "        list_response[it][predictionResponse.entities[x].type] = \\\n",
    "        predictionResponse.entities[x].entity"
   ]
  },
  {
   "cell_type": "code",
   "execution_count": 16,
   "metadata": {},
   "outputs": [
    {
     "data": {
      "text/plain": [
       "[{'intent': 'book'},\n",
       " {'max_duration': '4 day',\n",
       "  'builtin.datetimeV2.duration': '4 day',\n",
       "  'builtin.number': '4'},\n",
       " {'or_city': 'tijuana ,', 'builtin.geographyV2.city': 'tijuana'},\n",
       " {'n_adults': 'one', 'builtin.number': 'one'},\n",
       " {'dst_city': 'santos',\n",
       "  'n_adults': 'with a friend .',\n",
       "  'builtin.geographyV2.city': 'santos'},\n",
       " {'dst_city': 'queenstown',\n",
       "  'or_city': 'fort lauderdale',\n",
       "  'builtin.geographyV2.city': 'queenstown'},\n",
       " {'max_duration': '8 days',\n",
       "  'or_city': 'dallas .',\n",
       "  'str_date': 'september 6',\n",
       "  'builtin.datetimeV2.duration': '8 days',\n",
       "  'builtin.datetimeV2.daterange': 'starting on september 6',\n",
       "  'builtin.number': '6'},\n",
       " {'budget': '2800',\n",
       "  'n_adults': 'just me .',\n",
       "  'builtin.geographyV2.continent': 'south america',\n",
       "  'builtin.number': '2800'}]"
      ]
     },
     "execution_count": 16,
     "metadata": {},
     "output_type": "execute_result"
    }
   ],
   "source": [
    "list_response"
   ]
  },
  {
   "cell_type": "code",
   "execution_count": 17,
   "metadata": {},
   "outputs": [
    {
     "data": {
      "text/plain": [
       "[{'intent': 'book', 'text': 'Would I still be able to book that package?'},\n",
       " {'max_duration': '4 day', 'text': 'I want to go on a 4 day trip'},\n",
       " {'or_city': 'Tijuana,', 'text': 'I am in Tijuana, send me anywhere nice!'},\n",
       " {'n_adults': 'one', 'text': 'Great. Book for one adult.'},\n",
       " {'n_adults': 'with a friend.',\n",
       "  'dst_city': 'Santos',\n",
       "  'text': 'I’m traveling with a friend. Santos then'},\n",
       " {'or_city': 'Fort Lauderdale',\n",
       "  'text': 'She lives in Fort Lauderdale and needs to go to Queenstown'},\n",
       " {'max_duration': '8 days',\n",
       "  'str_date': 'september 6',\n",
       "  'or_city': 'dallas.',\n",
       "  'text': 'I have 8 days for vacation starting on september 6 from dallas. What can you offer me?'},\n",
       " {'n_adults': 'just me.',\n",
       "  'budget': '2800',\n",
       "  'text': \"Yeah just me. I've just spent all this money backpacking around South America, so I've only got 2800 left. Can you find something with that?\"}]"
      ]
     },
     "execution_count": 17,
     "metadata": {},
     "output_type": "execute_result"
    }
   ],
   "source": [
    "df_list[30:38]"
   ]
  },
  {
   "cell_type": "code",
   "execution_count": 18,
   "metadata": {},
   "outputs": [],
   "source": [
    "import re"
   ]
  },
  {
   "cell_type": "code",
   "execution_count": 57,
   "metadata": {},
   "outputs": [],
   "source": [
    "table = {}\n",
    "#table['tests'] = 0\n",
    "for it in range(8):\n",
    "    for key in df_list[30 + it].keys():\n",
    "        real = ''\n",
    "        predict = ''\n",
    "        if not key == 'text':\n",
    "            if not key in table.keys():\n",
    "                table[key] = [0, 0, 0, 0, 0]  # TP FP TN FN SUM\n",
    "            if key in list_response[it].keys():\n",
    "                #table['tests'] += 1\n",
    "                table[key][4] += 1  # Compte le nombre total d’apparition\n",
    "                #print(key, ''.join(re.findall('\\w*', df_list[it + 30][key])).lower())\n",
    "                #print(key, ''.join(re.findall('\\w*', list_response[it][key])).lower())\n",
    "                real = ''.join(re.findall('\\w*', df_list[it + 30][key])).lower()\n",
    "                predict = ''.join(re.findall('\\w*', list_response[it][key])).lower()\n",
    "                if real == predict:\n",
    "                    table[key][0] += 1  # Compte le nombre de bonne prédiction\n",
    "                else:\n",
    "                    table[key][1] += 1\n",
    "            else:\n",
    "                table[key][1] += 1\n",
    "                table[key][4] += 1\n",
    "    for key in list_response[it].keys():\n",
    "        real = ''\n",
    "        predict = ''\n",
    "        if (not key == 'text') & (not 'builtin' in key):\n",
    "            if not key in table.keys():\n",
    "                table[key] = [0, 0, 0, 0, 0]  # TP FP TN FN SUM \n",
    "            if key in df_list[30 + it].keys():\n",
    "                #table['tests'] += 1\n",
    "                table[key][4] += 1  # Compte le nombre total d’apparition\n",
    "                #print(key, ''.join(re.findall('\\w*', df_list[it + 30][key])).lower())\n",
    "                #print(key, ''.join(re.findall('\\w*', list_response[it][key])).lower())\n",
    "                real = ''.join(re.findall('\\w*', df_list[it + 30][key])).lower()\n",
    "                predict = ''.join(re.findall('\\w*', list_response[it][key])).lower()\n",
    "                if real == predict:\n",
    "                    table[key][2] += 1  # Compte le nombre de bonne prédiction\n",
    "                else:\n",
    "                    table[key][3] += 1\n",
    "            else:\n",
    "                table[key][3] += 1\n",
    "                table[key][4] += 1\n"
   ]
  },
  {
   "cell_type": "code",
   "execution_count": 58,
   "metadata": {},
   "outputs": [],
   "source": [
    "import matplotlib.pyplot as plt"
   ]
  },
  {
   "cell_type": "code",
   "execution_count": 59,
   "metadata": {},
   "outputs": [
    {
     "data": {
      "text/plain": [
       "{'intent': [1, 0, 1, 0, 2],\n",
       " 'max_duration': [2, 0, 2, 0, 4],\n",
       " 'or_city': [3, 0, 3, 0, 6],\n",
       " 'n_adults': [3, 0, 3, 0, 6],\n",
       " 'dst_city': [1, 0, 1, 1, 3],\n",
       " 'str_date': [1, 0, 1, 0, 2],\n",
       " 'budget': [1, 0, 1, 0, 2]}"
      ]
     },
     "execution_count": 59,
     "metadata": {},
     "output_type": "execute_result"
    }
   ],
   "source": [
    "table"
   ]
  },
  {
   "cell_type": "code",
   "execution_count": 60,
   "metadata": {},
   "outputs": [],
   "source": [
    "df = pd.DataFrame.from_dict(table, orient='index', columns=['TP', 'FP', 'TN', 'FN', 'Total'])"
   ]
  },
  {
   "cell_type": "code",
   "execution_count": 61,
   "metadata": {},
   "outputs": [
    {
     "data": {
      "text/html": [
       "<div>\n",
       "<style scoped>\n",
       "    .dataframe tbody tr th:only-of-type {\n",
       "        vertical-align: middle;\n",
       "    }\n",
       "\n",
       "    .dataframe tbody tr th {\n",
       "        vertical-align: top;\n",
       "    }\n",
       "\n",
       "    .dataframe thead th {\n",
       "        text-align: right;\n",
       "    }\n",
       "</style>\n",
       "<table border=\"1\" class=\"dataframe\">\n",
       "  <thead>\n",
       "    <tr style=\"text-align: right;\">\n",
       "      <th></th>\n",
       "      <th>TP</th>\n",
       "      <th>FP</th>\n",
       "      <th>TN</th>\n",
       "      <th>FN</th>\n",
       "      <th>Total</th>\n",
       "    </tr>\n",
       "  </thead>\n",
       "  <tbody>\n",
       "    <tr>\n",
       "      <th>intent</th>\n",
       "      <td>1</td>\n",
       "      <td>0</td>\n",
       "      <td>1</td>\n",
       "      <td>0</td>\n",
       "      <td>2</td>\n",
       "    </tr>\n",
       "    <tr>\n",
       "      <th>max_duration</th>\n",
       "      <td>2</td>\n",
       "      <td>0</td>\n",
       "      <td>2</td>\n",
       "      <td>0</td>\n",
       "      <td>4</td>\n",
       "    </tr>\n",
       "    <tr>\n",
       "      <th>or_city</th>\n",
       "      <td>3</td>\n",
       "      <td>0</td>\n",
       "      <td>3</td>\n",
       "      <td>0</td>\n",
       "      <td>6</td>\n",
       "    </tr>\n",
       "    <tr>\n",
       "      <th>n_adults</th>\n",
       "      <td>3</td>\n",
       "      <td>0</td>\n",
       "      <td>3</td>\n",
       "      <td>0</td>\n",
       "      <td>6</td>\n",
       "    </tr>\n",
       "    <tr>\n",
       "      <th>dst_city</th>\n",
       "      <td>1</td>\n",
       "      <td>0</td>\n",
       "      <td>1</td>\n",
       "      <td>1</td>\n",
       "      <td>3</td>\n",
       "    </tr>\n",
       "    <tr>\n",
       "      <th>str_date</th>\n",
       "      <td>1</td>\n",
       "      <td>0</td>\n",
       "      <td>1</td>\n",
       "      <td>0</td>\n",
       "      <td>2</td>\n",
       "    </tr>\n",
       "    <tr>\n",
       "      <th>budget</th>\n",
       "      <td>1</td>\n",
       "      <td>0</td>\n",
       "      <td>1</td>\n",
       "      <td>0</td>\n",
       "      <td>2</td>\n",
       "    </tr>\n",
       "  </tbody>\n",
       "</table>\n",
       "</div>"
      ],
      "text/plain": [
       "              TP  FP  TN  FN  Total\n",
       "intent         1   0   1   0      2\n",
       "max_duration   2   0   2   0      4\n",
       "or_city        3   0   3   0      6\n",
       "n_adults       3   0   3   0      6\n",
       "dst_city       1   0   1   1      3\n",
       "str_date       1   0   1   0      2\n",
       "budget         1   0   1   0      2"
      ]
     },
     "execution_count": 61,
     "metadata": {},
     "output_type": "execute_result"
    }
   ],
   "source": [
    "df"
   ]
  },
  {
   "cell_type": "code",
   "execution_count": 68,
   "metadata": {},
   "outputs": [],
   "source": [
    "import seaborn as sns\n",
    "import numpy as np"
   ]
  },
  {
   "cell_type": "code",
   "execution_count": 79,
   "metadata": {},
   "outputs": [
    {
     "data": {
      "text/plain": [
       "<AxesSubplot:>"
      ]
     },
     "execution_count": 79,
     "metadata": {},
     "output_type": "execute_result"
    },
    {
     "data": {
      "image/png": "[encoded data removed]",
      "text/plain": [
       "<Figure size 432x288 with 2 Axes>"
      ]
     },
     "metadata": {
      "needs_background": "light"
     },
     "output_type": "display_data"
    }
   ],
   "source": [
    "sns.heatmap(np.array(df[['TP','FP','FN','TN']].sum()).reshape(2,2), annot=True)"
   ]
  },
  {
   "cell_type": "markdown",
   "metadata": {},
   "source": [
    "Sur un petit échantillon les résultats sont bons. Pour faire un test sur plus de prédiction, nous devons utiliser l’interface LUIS dans le portail Azure."
   ]
  },
  {
   "cell_type": "code",
   "execution_count": 85,
   "metadata": {},
   "outputs": [
    {
     "data": {
      "text/plain": [
       "12"
      ]
     },
     "execution_count": 85,
     "metadata": {},
     "output_type": "execute_result"
    }
   ],
   "source": [
    "df[['TP']].sum()[0]"
   ]
  },
  {
   "cell_type": "code",
   "execution_count": 86,
   "metadata": {},
   "outputs": [],
   "source": [
    "TP = df[['TP']].sum()[0]\n",
    "FP = df[['FP']].sum()[0]\n",
    "FN = df[['FN']].sum()[0]\n",
    "TN = df[['TN']].sum()[0]"
   ]
  },
  {
   "cell_type": "code",
   "execution_count": 89,
   "metadata": {},
   "outputs": [],
   "source": [
    "precision = (TP / (FP+TP))\n",
    "recall = (TP / (FN+TP))\n",
    "f1_score = 2 * (precision * recall) / (precision + recall)"
   ]
  },
  {
   "cell_type": "code",
   "execution_count": 90,
   "metadata": {},
   "outputs": [
    {
     "data": {
      "text/plain": [
       "(1.0, 0.9230769230769231, 0.9600000000000001)"
      ]
     },
     "execution_count": 90,
     "metadata": {},
     "output_type": "execute_result"
    }
   ],
   "source": [
    "precision, recall, f1_score"
   ]
  },
  {
   "cell_type": "code",
   "execution_count": null,
   "metadata": {},
   "outputs": [],
   "source": []
  },
  {
   "cell_type": "code",
   "execution_count": null,
   "metadata": {},
   "outputs": [],
   "source": []
  },
  {
   "cell_type": "code",
   "execution_count": null,
   "metadata": {},
   "outputs": [],
   "source": []
  },
  {
   "cell_type": "code",
   "execution_count": null,
   "metadata": {},
   "outputs": [],
   "source": []
  },
  {
   "cell_type": "code",
   "execution_count": null,
   "metadata": {},
   "outputs": [],
   "source": []
  },
  {
   "cell_type": "code",
   "execution_count": null,
   "metadata": {},
   "outputs": [],
   "source": []
  },
  {
   "cell_type": "code",
   "execution_count": null,
   "metadata": {},
   "outputs": [],
   "source": []
  },
  {
   "cell_type": "code",
   "execution_count": null,
   "metadata": {},
   "outputs": [],
   "source": []
  }
 ],
 "metadata": {
  "kernelspec": {
   "display_name": "ProjetBot",
   "language": "python",
   "name": ".venv"
  },
  "language_info": {
   "codemirror_mode": {
    "name": "ipython",
    "version": 3
   },
   "file_extension": ".py",
   "mimetype": "text/x-python",
   "name": "python",
   "nbconvert_exporter": "python",
   "pygments_lexer": "ipython3",
   "version": "3.8.10"
  }
 },
 "nbformat": 4,
 "nbformat_minor": 4
}
